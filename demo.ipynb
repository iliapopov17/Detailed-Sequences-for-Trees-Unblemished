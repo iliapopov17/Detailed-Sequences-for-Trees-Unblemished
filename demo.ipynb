{
 "cells": [
  {
   "cell_type": "markdown",
   "metadata": {},
   "source": [
    "## **Import _Detailed-Sequences-for-Trees-Unblemished_**"
   ]
  },
  {
   "cell_type": "code",
   "execution_count": 1,
   "metadata": {},
   "outputs": [],
   "source": [
    "from DSTU import *"
   ]
  },
  {
   "cell_type": "code",
   "execution_count": 3,
   "metadata": {},
   "outputs": [],
   "source": [
    "def print_first_5_lines(filename):\n",
    "    with open(filename, 'r') as file:\n",
    "        for i, line in enumerate(file):\n",
    "            if i >= 5:\n",
    "                break\n",
    "            print(line.strip())"
   ]
  },
  {
   "cell_type": "markdown",
   "metadata": {},
   "source": [
    "## **Download demo sequences**"
   ]
  },
  {
   "cell_type": "code",
   "execution_count": 8,
   "metadata": {},
   "outputs": [
    {
     "name": "stdout",
     "output_type": "stream",
     "text": [
      "NC_034519\n",
      "NC_055636\n",
      "NC_005225\n",
      "NC_038939\n",
      "NC_038529\n"
     ]
    }
   ],
   "source": [
    "print_first_5_lines('demo_data/accession_numbers.txt')"
   ]
  },
  {
   "cell_type": "markdown",
   "metadata": {},
   "source": [
    "Source:<br>\n",
    "[Barbosa Dos Santos M, Koide Albuquerque N, Patroca da Silva S, et al. A novel hantavirus identified in bats (Carollia perspicillata) in Brazil. Sci Rep. 2024;14(1):6346. Published 2024 Mar 15. doi:10.1038/s41598-024-56808-6](https://www.ncbi.nlm.nih.gov/pmc/articles/PMC10943075/)"
   ]
  },
  {
   "cell_type": "code",
   "execution_count": 2,
   "metadata": {},
   "outputs": [
    {
     "name": "stdout",
     "output_type": "stream",
     "text": [
      "Downloaded: NC_034519\n",
      "Downloaded: NC_055636\n",
      "Downloaded: NC_005225\n",
      "Downloaded: NC_038939\n",
      "Downloaded: NC_038529\n",
      "Downloaded: NC_034467\n",
      "Downloaded: NC_034553\n",
      "Downloaded: NC_003468\n",
      "Downloaded: NC_034515\n",
      "Downloaded: NC_038299\n",
      "Downloaded: NC_077671\n",
      "Downloaded: NC_034403\n",
      "Downloaded: NC_038695\n",
      "Downloaded: NC_034556\n",
      "Downloaded: LC553715\n",
      "Downloaded: NC_005238\n",
      "Downloaded: NC_005235\n",
      "Downloaded: NC_034517\n",
      "Downloaded: NC_006435\n",
      "Downloaded: NC_005222\n",
      "Downloaded: NC_055147\n",
      "Downloaded: NC_034560\n",
      "Downloaded: NC_034485\n",
      "Downloaded: NC_034407\n",
      "Downloaded: NC_034399\n",
      "Downloaded: NC_034402\n",
      "Downloaded: MG663536\n",
      "Downloaded: NC_038515\n",
      "Downloaded: NC_078262\n",
      "Downloaded: NC_055632\n",
      "Downloaded: NC_034401\n",
      "Downloaded: OR684449\n",
      "Downloaded: FJ593498\n",
      "Downloaded: KX512433\n",
      "Downloaded: NC_078485\n",
      "Downloaded: KX779126\n",
      "Downloaded: NC_034564\n",
      "Downloaded: NC_010707\n",
      "Downloaded: NC_055170\n",
      "All downloads completed.\n"
     ]
    }
   ],
   "source": [
    "get_sequences('iljapopov17@gmail.com', 'demo_data/accession_numbers.txt', 'genbank_sequences')"
   ]
  },
  {
   "cell_type": "markdown",
   "metadata": {},
   "source": [
    "## **Tree construction**"
   ]
  },
  {
   "cell_type": "markdown",
   "metadata": {},
   "source": [
    "Please take a look at the `tree_construction.ipynb` notebook"
   ]
  },
  {
   "cell_type": "markdown",
   "metadata": {},
   "source": [
    "### **First tree**"
   ]
  },
  {
   "cell_type": "markdown",
   "metadata": {},
   "source": [
    "![alt text](<imgs/first tree.png>)"
   ]
  },
  {
   "cell_type": "markdown",
   "metadata": {},
   "source": [
    "https://itol.embl.de/export/95255816233311714076689"
   ]
  },
  {
   "cell_type": "markdown",
   "metadata": {},
   "source": [
    "_Fig 1. Naked phylogenetic tree_"
   ]
  },
  {
   "cell_type": "markdown",
   "metadata": {},
   "source": [
    "This tree is naked.<br>\n",
    "There is no:<br>\n",
    "1. Annotation of the organisms name. There are only accession numbers that cannot say anything.\n",
    "2. The tree demonstrates phylogenetic relationships between different viruses. But there is no information about host organisms of that viruses."
   ]
  },
  {
   "cell_type": "markdown",
   "metadata": {},
   "source": [
    "## **Return organisms names to the tree**"
   ]
  },
  {
   "cell_type": "code",
   "execution_count": 2,
   "metadata": {},
   "outputs": [
    {
     "name": "stdout",
     "output_type": "stream",
     "text": [
      "The request has been fulfilled.\n",
      "File saved to demo_data/accession_organism.txt\n"
     ]
    }
   ],
   "source": [
    "get_organisms('iljapopov17@gmail.com', 'demo_data/accession_numbers.txt', 'demo_data/accession_organism.txt')"
   ]
  },
  {
   "cell_type": "code",
   "execution_count": 4,
   "metadata": {},
   "outputs": [
    {
     "name": "stdout",
     "output_type": "stream",
     "text": [
      "NC_034519.1 Orthohantavirus khabarovskense\n",
      "NC_055636.1 Orthohantavirus tatenalense\n",
      "NC_005225.1 Orthohantavirus puumalaense\n",
      "NC_038939.1 Orthohantavirus prospectense\n",
      "NC_038529.1 Eothenomys miletus hantavirus LX309\n"
     ]
    }
   ],
   "source": [
    "print_first_5_lines('demo_data/accession_organism.txt')"
   ]
  },
  {
   "cell_type": "code",
   "execution_count": 3,
   "metadata": {},
   "outputs": [
    {
     "name": "stdout",
     "output_type": "stream",
     "text": [
      "The request has been fulfilled.\n",
      "File saved to demo_data/modified_tree.treefile\n"
     ]
    }
   ],
   "source": [
    "update_tree('demo_data/accession_organism.txt', 'demo_data/tree_ufb.treefile', 'demo_data/modified_tree.treefile')"
   ]
  },
  {
   "cell_type": "code",
   "execution_count": 9,
   "metadata": {},
   "outputs": [
    {
     "name": "stdout",
     "output_type": "stream",
     "text": [
      "(FJ593498.1:0.1240225441,KX512433.1:0.1580233515,((((((KX779126.1:0.1801341369,NC_034564.1:0.1518834757)100:0.2690724126,NC_010707.1:0.4026159852)100:0.5357342048,NC_055170.1:3.2821188681)96:0.1993926731,(((((((LC553715.1:0.2424396410,NC_034556.1:0.2425091493)100:0.1540926638,NC_005238.1:0.2987153355)100:0.0815585291,((NC_005222.1:0.1745023294,NC_006435.1:0.1329576555)100:0.2619343862,(NC_005235.1:0.3091225291,NC_034517.1:0.3426538757)100:0.0890215926)59:0.0409665566)100:0.2464858691,NC_055147.1:0.5009202874)69:0.0579848758,((NC_034399.1:0.4574934455,NC_034407.1:0.4201827666)100:0.2133110745,(NC_034485.1:0.3554924125,NC_034560.1:0.3958031671)100:0.1134597575)100:0.0983251229)88:0.0539862361,NC_034402.1:0.6194957047)100:0.2179091508,(((((NC_003468.2:0.3220309131,NC_034553.1:0.3217768427)100:0.0967750566,(NC_034515.1:0.3420020277,NC_038299.1:0.3578938480)78:0.0604905717)100:0.0681808060,(NC_034403.1:0.4057149461,NC_077671.1:0.3295415521)96:0.0808310506)100:0.1515347499,NC_038695.1:0.6146030315)75:0.0529123693,(((NC_005225.1:0.3178994625,(NC_034519.1:0.2903408237,NC_055636.1:0.2951103060)96:0.0707049689)100:0.1162566928,NC_038939.1:0.4860686808)100:0.0974816090,(NC_034467.1:0.3408088379,NC_038529.1:0.3214413064)100:0.1876647016)100:0.0906674433)100:0.3112288106)100:0.2995543026)97:0.1136359007,NC_078485.1:1.2137610889)49:0.0697049196,(((MG663536.1:0.4927348232,NC_038515.1:0.3837609395)94:0.0895431598,NC_078262.1:0.4767046102)100:0.2182159381,((NC_034401.1:0.5482148765,NC_055632.1:0.5333969980)100:0.2727779310,OR684449.1:0.6549294470)90:0.1135643862)55:0.0661132415)100:0.9075896851);\n"
     ]
    }
   ],
   "source": [
    "print_first_5_lines('demo_data/tree_ufb.treefile')"
   ]
  },
  {
   "cell_type": "code",
   "execution_count": 5,
   "metadata": {},
   "outputs": [
    {
     "name": "stdout",
     "output_type": "stream",
     "text": [
      "(FJ593498.1 Nova virus:0.1240225441,KX512433.1 Nova virus:0.1580233515,((((((KX779126.1 Imjin virus:0.1801341369,NC_034564.1 Imjin virus:0.1518834757)100:0.2690724126,NC_010707.1 Thottapalayam virus:0.4026159852)100:0.5357342048,NC_055170.1 Hainan oriental leaf-toed gecko hantavirus:3.2821188681)96:0.1993926731,(((((((LC553715.1 Orthohantavirus thailandense:0.2424396410,NC_034556.1 Anjozorobe virus:0.2425091493)100:0.1540926638,NC_005238.1 Orthohantavirus seoulense:0.2987153355)100:0.0815585291,((NC_005222.1 Orthohantavirus hantanense:0.1745023294,NC_006435.1 Hantavirus Z10:0.1329576555)100:0.2619343862,(NC_005235.1 Orthohantavirus dobravaense:0.3091225291,NC_034517.1 Orthohantavirus sangassouense:0.3426538757)100:0.0890215926)59:0.0409665566)100:0.2464858691,NC_055147.1 Tigray virus:0.5009202874)69:0.0579848758,((NC_034399.1 Jeju virus:0.4574934455,NC_034407.1 Bowe virus:0.4201827666)100:0.2133110745,(NC_034485.1 Orthohantavirus caobangense:0.3554924125,NC_034560.1 Kenkeme virus:0.3958031671)100:0.1134597575)100:0.0983251229)88:0.0539862361,NC_034402.1 Bruges virus:0.6194957047)100:0.2179091508,(((((NC_003468.2 Orthohantavirus andesense:0.3220309131,NC_034553.1 Maporal virus:0.3217768427)100:0.0967750566,(NC_034515.1 Orthohantavirus delgaditoense:0.3420020277,NC_038299.1 Orthohantavirus bayoui:0.3578938480)78:0.0604905717)100:0.0681808060,(NC_034403.1 Orthohantavirus montanoense:0.4057149461,NC_077671.1 Orthohantavirus sinnombreense:0.3295415521)96:0.0808310506)100:0.1515347499,NC_038695.1 Rockport virus:0.6146030315)75:0.0529123693,(((NC_005225.1 Orthohantavirus puumalaense:0.3178994625,(NC_034519.1 Orthohantavirus khabarovskense:0.2903408237,NC_055636.1 Orthohantavirus tatenalense:0.2951103060)96:0.0707049689)100:0.1162566928,NC_038939.1 Orthohantavirus prospectense:0.4860686808)100:0.0974816090,(NC_034467.1 Fugong virus:0.3408088379,NC_038529.1 Eothenomys miletus hantavirus LX309:0.3214413064)100:0.1876647016)100:0.0906674433)100:0.3112288106)100:0.2995543026)97:0.1136359007,NC_078485.1 Lena virus:1.2137610889)49:0.0697049196,(((MG663536.1 Dakrong virus:0.4927348232,NC_038515.1 Laibin virus:0.3837609395)94:0.0895431598,NC_078262.1 Xuan son virus:0.4767046102)100:0.2182159381,((NC_034401.1 Quezon virus:0.5482148765,NC_055632.1 Orthohantavirus robinaense:0.5333969980)100:0.2727779310,OR684449.1 Buritiense virus:0.6549294470)90:0.1135643862)55:0.0661132415)100:0.9075896851);\n"
     ]
    }
   ],
   "source": [
    "print_first_5_lines('demo_data/modified_tree.treefile')"
   ]
  },
  {
   "cell_type": "markdown",
   "metadata": {},
   "source": [
    "## **Get the information about viruses hosts**"
   ]
  },
  {
   "cell_type": "markdown",
   "metadata": {},
   "source": [
    "### **Fetching hosts info**"
   ]
  },
  {
   "cell_type": "code",
   "execution_count": 2,
   "metadata": {},
   "outputs": [
    {
     "name": "stdout",
     "output_type": "stream",
     "text": [
      "The request has been fulfilled.\n",
      "File saved to demo_data/accession_host.txt\n"
     ]
    }
   ],
   "source": [
    "get_hosts('iljapopov17@gmail.com', 'demo_data/accession_numbers.txt', 'demo_data/accession_host.txt')"
   ]
  },
  {
   "cell_type": "code",
   "execution_count": 6,
   "metadata": {},
   "outputs": [
    {
     "name": "stdout",
     "output_type": "stream",
     "text": [
      "NC_034519.1 Microtus maximowiczii\n",
      "NC_055636.1 Microtus agrestis\n",
      "NC_005225.1 ND\n",
      "NC_038939.1 Microtus pennsylvanicus\n",
      "NC_038529.1 Eothenomys miletus\n"
     ]
    }
   ],
   "source": [
    "print_first_5_lines('demo_data/accession_host.txt')"
   ]
  },
  {
   "cell_type": "markdown",
   "metadata": {},
   "source": [
    "### **Fetching hosts phylogenetic order**"
   ]
  },
  {
   "cell_type": "code",
   "execution_count": 3,
   "metadata": {},
   "outputs": [
    {
     "name": "stdout",
     "output_type": "stream",
     "text": [
      "The request has been fulfilled.\n",
      "Please do not forget to edit the file manually.\n",
      "The query to NCBI database from this function is pretty difficult.\n",
      "Sometimes this function prints:\n",
      "\"Error - HTTP Error 400: Bad Request\" in case of bad connection or\n",
      "\"Note - False record\" in case there is no record about the host organism.\n"
     ]
    }
   ],
   "source": [
    "get_hosts_orders('iljapopov17@gmail.com', 'demo_data/accession_host.txt', 'demo_data/accession_order.txt')"
   ]
  },
  {
   "cell_type": "code",
   "execution_count": 7,
   "metadata": {},
   "outputs": [
    {
     "name": "stdout",
     "output_type": "stream",
     "text": [
      "NC_034519.1\tRodentia\n",
      "NC_055636.1\tRodentia\n",
      "NC_005225.1\tND\n",
      "NC_038939.1\tRodentia\n",
      "NC_038529.1\tRodentia\n"
     ]
    }
   ],
   "source": [
    "print_first_5_lines('demo_data/accession_order.txt')"
   ]
  },
  {
   "cell_type": "markdown",
   "metadata": {},
   "source": [
    "## **Prepare annotation info for iTOL**"
   ]
  },
  {
   "cell_type": "markdown",
   "metadata": {},
   "source": [
    "### **Get unique hosts's phylogenetic orders**"
   ]
  },
  {
   "cell_type": "code",
   "execution_count": 4,
   "metadata": {},
   "outputs": [
    {
     "name": "stdout",
     "output_type": "stream",
     "text": [
      "['Rodentia', 'ND', 'Eulipotyphla', 'Chiroptera', 'Squamata']\n"
     ]
    }
   ],
   "source": [
    "unique_orders = get_unique_orders(\"demo_data/accession_order.txt\")\n",
    "print(unique_orders)"
   ]
  },
  {
   "cell_type": "markdown",
   "metadata": {},
   "source": [
    "### **Create a color map**"
   ]
  },
  {
   "cell_type": "code",
   "execution_count": 8,
   "metadata": {},
   "outputs": [
    {
     "name": "stdout",
     "output_type": "stream",
     "text": [
      "{'Rodentia': '#0ca20c', 'ND': '#ffffff', 'Eulipotyphla': '#0078ff', 'Chiroptera': '#000000', 'Squamata': '#ffa500'}\n"
     ]
    }
   ],
   "source": [
    "color_map = set_color_map(\"demo_data/accession_order.txt\")\n",
    "print(color_map)"
   ]
  },
  {
   "cell_type": "markdown",
   "metadata": {},
   "source": [
    "## **Create annotation dataset for iTOL**"
   ]
  },
  {
   "cell_type": "markdown",
   "metadata": {},
   "source": [
    "### **Using the manually adjusted color map**"
   ]
  },
  {
   "cell_type": "code",
   "execution_count": 9,
   "metadata": {},
   "outputs": [
    {
     "name": "stdout",
     "output_type": "stream",
     "text": [
      "Colors were set by the user.\n",
      "The request has been fulfilled.\n"
     ]
    }
   ],
   "source": [
    "get_itol_dataset(\"demo_data/accession_organism.txt\", \"demo_data/accession_order.txt\", \"demo_data/dataset_for_iTOL.txt\", color_map)"
   ]
  },
  {
   "cell_type": "code",
   "execution_count": 10,
   "metadata": {},
   "outputs": [
    {
     "name": "stdout",
     "output_type": "stream",
     "text": [
      "DATASET_COLORSTRIP\n",
      "SEPARATOR TAB\n",
      "DATASET_LABEL\tHost Group Colors\n",
      "DATA\n",
      "NC_034519.1 Orthohantavirus khabarovskense\t#0ca20c\tRodentia\n"
     ]
    }
   ],
   "source": [
    "print_first_5_lines('demo_data/dataset_for_iTOL.txt')"
   ]
  },
  {
   "cell_type": "markdown",
   "metadata": {},
   "source": [
    "![alt text](<imgs/second tree.png>)"
   ]
  },
  {
   "cell_type": "markdown",
   "metadata": {},
   "source": [
    "https://itol.embl.de/export/95255816295731714078181"
   ]
  },
  {
   "cell_type": "markdown",
   "metadata": {},
   "source": [
    "_Fig 2. Second tree. With annotation info containing organisms names and manually adjusted colors indicating hosts phylogenetic order_"
   ]
  },
  {
   "cell_type": "markdown",
   "metadata": {},
   "source": [
    "### **Using randomly generated color map**"
   ]
  },
  {
   "cell_type": "code",
   "execution_count": 7,
   "metadata": {},
   "outputs": [
    {
     "name": "stdout",
     "output_type": "stream",
     "text": [
      "Colors were not set, they were generated randomly.\n",
      "The request has been fulfilled.\n"
     ]
    }
   ],
   "source": [
    "get_itol_dataset(\"demo_data/accession_organism.txt\", \"demo_data/accession_order.txt\", \"demo_data/dataset_for_iTOL_2.txt\")"
   ]
  },
  {
   "cell_type": "code",
   "execution_count": 11,
   "metadata": {},
   "outputs": [
    {
     "name": "stdout",
     "output_type": "stream",
     "text": [
      "DATASET_COLORSTRIP\n",
      "SEPARATOR TAB\n",
      "DATASET_LABEL\tHost Group Colors\n",
      "DATA\n",
      "NC_034519.1 Orthohantavirus khabarovskense\t#e31342\tRodentia\n"
     ]
    }
   ],
   "source": [
    "print_first_5_lines('demo_data/dataset_for_iTOL_2.txt')"
   ]
  },
  {
   "cell_type": "markdown",
   "metadata": {},
   "source": [
    "![alt text](<imgs/third tree.png>)"
   ]
  },
  {
   "cell_type": "markdown",
   "metadata": {},
   "source": [
    "https://itol.embl.de/export/95255816343181714079366"
   ]
  },
  {
   "cell_type": "markdown",
   "metadata": {},
   "source": [
    "_Fig 3. Third tree. With annotation info containing organisms names and randomly generated colors indicating hosts phylogenetic order_"
   ]
  },
  {
   "cell_type": "markdown",
   "metadata": {},
   "source": [
    "In this case random generation played a bad joke! Almost every color is the same. It will be much more convenient to adjust color map manually."
   ]
  }
 ],
 "metadata": {
  "kernelspec": {
   "display_name": "Python 3",
   "language": "python",
   "name": "python3"
  },
  "language_info": {
   "codemirror_mode": {
    "name": "ipython",
    "version": 3
   },
   "file_extension": ".py",
   "mimetype": "text/x-python",
   "name": "python",
   "nbconvert_exporter": "python",
   "pygments_lexer": "ipython3",
   "version": "3.12.0"
  }
 },
 "nbformat": 4,
 "nbformat_minor": 2
}
